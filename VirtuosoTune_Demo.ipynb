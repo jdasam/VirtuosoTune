{
  "nbformat": 4,
  "nbformat_minor": 0,
  "metadata": {
    "colab": {
      "provenance": [],
      "authorship_tag": "ABX9TyOMbaLkoK3X6Yi4BGYxW9j7",
      "include_colab_link": true
    },
    "kernelspec": {
      "name": "python3",
      "display_name": "Python 3"
    },
    "language_info": {
      "name": "python"
    },
    "accelerator": "GPU"
  },
  "cells": [
    {
      "cell_type": "markdown",
      "metadata": {
        "id": "view-in-github",
        "colab_type": "text"
      },
      "source": [
        "<a href=\"https://colab.research.google.com/github/jdasam/VirtuosoTune/blob/main/VirtuosoTune_Demo.ipynb\" target=\"_parent\"><img src=\"https://colab.research.google.com/assets/colab-badge.svg\" alt=\"Open In Colab\"/></a>"
      ]
    },
    {
      "cell_type": "markdown",
      "source": [
        "# VirtuosoTune\n",
        "- [GitHub Repo](https://github.com/jdasam/VirtuosoTune)\n",
        "- This is the model that was submitted for [Ai Music Generation Challenge 2022](https://github.com/boblsturm/aimusicgenerationchallenge2022), sub-task 1."
      ],
      "metadata": {
        "id": "Gt4YzG0Acl_L"
      }
    },
    {
      "cell_type": "markdown",
      "source": [
        "## Preparation\n",
        "- Get code\n",
        "- Install libraries"
      ],
      "metadata": {
        "id": "31z_5b1hcrFs"
      }
    },
    {
      "cell_type": "code",
      "execution_count": 1,
      "metadata": {
        "colab": {
          "base_uri": "https://localhost:8080/"
        },
        "id": "Rsc_FqPFbYkr",
        "outputId": "dd64f13c-084a-425b-f6dd-3e548fc13fe7"
      },
      "outputs": [
        {
          "output_type": "stream",
          "name": "stdout",
          "text": [
            "Looking in indexes: https://pypi.org/simple, https://us-python.pkg.dev/colab-wheels/public/simple/\n",
            "Requirement already satisfied: gdown in /usr/local/lib/python3.9/dist-packages (4.6.4)\n",
            "Requirement already satisfied: six in /usr/local/lib/python3.9/dist-packages (from gdown) (1.15.0)\n",
            "Requirement already satisfied: filelock in /usr/local/lib/python3.9/dist-packages (from gdown) (3.10.0)\n",
            "Requirement already satisfied: beautifulsoup4 in /usr/local/lib/python3.9/dist-packages (from gdown) (4.11.2)\n",
            "Requirement already satisfied: requests[socks] in /usr/local/lib/python3.9/dist-packages (from gdown) (2.27.1)\n",
            "Requirement already satisfied: tqdm in /usr/local/lib/python3.9/dist-packages (from gdown) (4.65.0)\n",
            "Requirement already satisfied: soupsieve>1.2 in /usr/local/lib/python3.9/dist-packages (from beautifulsoup4->gdown) (2.4)\n",
            "Requirement already satisfied: charset-normalizer~=2.0.0 in /usr/local/lib/python3.9/dist-packages (from requests[socks]->gdown) (2.0.12)\n",
            "Requirement already satisfied: urllib3<1.27,>=1.21.1 in /usr/local/lib/python3.9/dist-packages (from requests[socks]->gdown) (1.26.15)\n",
            "Requirement already satisfied: idna<4,>=2.5 in /usr/local/lib/python3.9/dist-packages (from requests[socks]->gdown) (3.4)\n",
            "Requirement already satisfied: certifi>=2017.4.17 in /usr/local/lib/python3.9/dist-packages (from requests[socks]->gdown) (2022.12.7)\n",
            "Requirement already satisfied: PySocks!=1.5.7,>=1.5.6 in /usr/local/lib/python3.9/dist-packages (from requests[socks]->gdown) (1.7.1)\n",
            "Cloning into 'VirtuosoTune'...\n",
            "remote: Enumerating objects: 22969, done.\u001b[K\n",
            "remote: Counting objects: 100% (22969/22969), done.\u001b[K\n",
            "remote: Compressing objects: 100% (22960/22960), done.\u001b[K\n",
            "remote: Total 22969 (delta 3), reused 22969 (delta 3), pack-reused 0\n",
            "Receiving objects: 100% (22969/22969), 5.34 MiB | 2.17 MiB/s, done.\n",
            "Resolving deltas: 100% (3/3), done.\n",
            "Downloading...\n",
            "From: https://drive.google.com/uc?id=12d2y_CW2kXQRS1OWwbDnaKXTBPLW-k0-\n",
            "To: /content/VirtuosoTune/pre_trained/measure_note/pitch_dur_iter99999_loss0.9795.pt\n",
            "100% 224M/224M [00:03<00:00, 72.2MB/s]\n"
          ]
        }
      ],
      "source": [
        "!pip install --upgrade gdown\n",
        "!git clone https://github.com/jdasam/VirtuosoTune.git\n",
        "!gdown 12d2y_CW2kXQRS1OWwbDnaKXTBPLW-k0- -O VirtuosoTune/pre_trained/measure_note/"
      ]
    },
    {
      "cell_type": "code",
      "source": [
        "%cd /content/VirtuosoTune/"
      ],
      "metadata": {
        "colab": {
          "base_uri": "https://localhost:8080/"
        },
        "id": "sg1ewAS0b3v_",
        "outputId": "5f98f3b5-8e30-4c6d-f060-ce94ff24063c"
      },
      "execution_count": 2,
      "outputs": [
        {
          "output_type": "stream",
          "name": "stdout",
          "text": [
            "/content/VirtuosoTune\n"
          ]
        }
      ]
    },
    {
      "cell_type": "code",
      "source": [
        "# Install Musescore \n",
        "!apt update\n",
        "!apt install -y software-properties-common\n",
        "!add-apt-repository -y ppa:mscore-ubuntu/mscore-stable\n",
        "!apt-get update\n",
        "!apt-get install -y musescore fluidsynth\n",
        "!cp /usr/share/sounds/sf2/FluidR3_GM.sf2 ./font.sf2"
      ],
      "metadata": {
        "id": "3fxwym73cgyb",
        "colab": {
          "base_uri": "https://localhost:8080/"
        },
        "outputId": "acd56492-2e56-48b7-ffd9-a70b1942d715"
      },
      "execution_count": 3,
      "outputs": [
        {
          "output_type": "stream",
          "name": "stdout",
          "text": [
            "\u001b[33m\r0% [Working]\u001b[0m\r            \rGet:1 http://security.ubuntu.com/ubuntu focal-security InRelease [114 kB]\n",
            "\r            \rGet:2 https://cloud.r-project.org/bin/linux/ubuntu focal-cran40/ InRelease [3,622 B]\n",
            "\r            \rGet:3 http://ppa.launchpad.net/c2d4u.team/c2d4u4.0+/ubuntu focal InRelease [18.1 kB]\n",
            "\u001b[33m\r0% [Connecting to archive.ubuntu.com (91.189.91.39)] [1 InRelease 17.1 kB/114 k\u001b[0m\u001b[33m\r0% [Connecting to archive.ubuntu.com (91.189.91.39)] [1 InRelease 43.1 kB/114 k\u001b[0m\u001b[33m\r0% [Connecting to archive.ubuntu.com (91.189.91.39)] [1 InRelease 43.1 kB/114 k\u001b[0m\r                                                                               \rHit:4 http://ppa.launchpad.net/cran/libgit2/ubuntu focal InRelease\n",
            "\u001b[33m\r0% [Connecting to archive.ubuntu.com (91.189.91.39)] [1 InRelease 101 kB/114 kB\u001b[0m\u001b[33m\r0% [Connecting to archive.ubuntu.com (91.189.91.39)] [Connecting to ppa.launchp\u001b[0m\r                                                                               \rHit:5 http://ppa.launchpad.net/deadsnakes/ppa/ubuntu focal InRelease\n",
            "\u001b[33m\r0% [Connecting to archive.ubuntu.com (91.189.91.39)] [Connecting to ppa.launchp\u001b[0m\r                                                                               \rGet:6 https://developer.download.nvidia.com/compute/cuda/repos/ubuntu2004/x86_64  InRelease [1,581 B]\n",
            "\u001b[33m\r0% [Connecting to archive.ubuntu.com (91.189.91.39)] [Connecting to ppa.launchp\u001b[0m\r                                                                               \rHit:7 http://ppa.launchpad.net/graphics-drivers/ppa/ubuntu focal InRelease\n",
            "\u001b[33m\r                                                                               \r0% [Waiting for headers]\u001b[0m\r                        \rHit:8 http://ppa.launchpad.net/ubuntugis/ppa/ubuntu focal InRelease\n",
            "Hit:9 http://archive.ubuntu.com/ubuntu focal InRelease\n",
            "Get:10 http://archive.ubuntu.com/ubuntu focal-updates InRelease [114 kB]\n",
            "Get:11 http://ppa.launchpad.net/c2d4u.team/c2d4u4.0+/ubuntu focal/main Sources [2,398 kB]\n",
            "Get:12 http://ppa.launchpad.net/c2d4u.team/c2d4u4.0+/ubuntu focal/main amd64 Packages [1,136 kB]\n",
            "Get:13 http://security.ubuntu.com/ubuntu focal-security/main amd64 Packages [2,544 kB]\n",
            "Get:14 http://archive.ubuntu.com/ubuntu focal-backports InRelease [108 kB]\n",
            "Get:15 http://security.ubuntu.com/ubuntu focal-security/universe amd64 Packages [1,017 kB]\n",
            "Get:16 https://developer.download.nvidia.com/compute/cuda/repos/ubuntu2004/x86_64  Packages [920 kB]\n",
            "Get:17 http://archive.ubuntu.com/ubuntu focal-updates/main amd64 Packages [3,021 kB]\n",
            "Get:18 http://archive.ubuntu.com/ubuntu focal-updates/universe amd64 Packages [1,313 kB]\n",
            "Fetched 12.7 MB in 2s (6,492 kB/s)\n",
            "Reading package lists... Done\n",
            "Building dependency tree       \n",
            "Reading state information... Done\n",
            "34 packages can be upgraded. Run 'apt list --upgradable' to see them.\n",
            "Reading package lists... Done\n",
            "Building dependency tree       \n",
            "Reading state information... Done\n",
            "software-properties-common is already the newest version (0.99.9.11).\n",
            "0 upgraded, 0 newly installed, 0 to remove and 34 not upgraded.\n",
            "Hit:1 http://ppa.launchpad.net/c2d4u.team/c2d4u4.0+/ubuntu focal InRelease\n",
            "Hit:2 http://security.ubuntu.com/ubuntu focal-security InRelease\n",
            "Hit:3 http://ppa.launchpad.net/cran/libgit2/ubuntu focal InRelease\n",
            "Hit:4 https://cloud.r-project.org/bin/linux/ubuntu focal-cran40/ InRelease\n",
            "Hit:5 http://ppa.launchpad.net/deadsnakes/ppa/ubuntu focal InRelease\n",
            "Hit:6 http://ppa.launchpad.net/graphics-drivers/ppa/ubuntu focal InRelease\n",
            "Hit:7 https://developer.download.nvidia.com/compute/cuda/repos/ubuntu2004/x86_64  InRelease\n",
            "Get:8 http://ppa.launchpad.net/mscore-ubuntu/mscore-stable/ubuntu focal InRelease [17.6 kB]\n",
            "Hit:9 http://ppa.launchpad.net/ubuntugis/ppa/ubuntu focal InRelease\n",
            "Hit:10 http://archive.ubuntu.com/ubuntu focal InRelease\n",
            "Hit:11 http://archive.ubuntu.com/ubuntu focal-updates InRelease\n",
            "Hit:12 http://archive.ubuntu.com/ubuntu focal-backports InRelease\n",
            "Get:13 http://ppa.launchpad.net/mscore-ubuntu/mscore-stable/ubuntu focal/main amd64 Packages [1,971 B]\n",
            "Fetched 19.5 kB in 1s (15.0 kB/s)\n",
            "Reading package lists... Done\n",
            "Hit:1 http://security.ubuntu.com/ubuntu focal-security InRelease\n",
            "Hit:2 http://ppa.launchpad.net/c2d4u.team/c2d4u4.0+/ubuntu focal InRelease\n",
            "Hit:3 http://ppa.launchpad.net/cran/libgit2/ubuntu focal InRelease\n",
            "Hit:4 https://cloud.r-project.org/bin/linux/ubuntu focal-cran40/ InRelease\n",
            "Hit:5 http://ppa.launchpad.net/deadsnakes/ppa/ubuntu focal InRelease\n",
            "Hit:6 https://developer.download.nvidia.com/compute/cuda/repos/ubuntu2004/x86_64  InRelease\n",
            "Hit:7 http://ppa.launchpad.net/graphics-drivers/ppa/ubuntu focal InRelease\n",
            "Hit:8 http://ppa.launchpad.net/mscore-ubuntu/mscore-stable/ubuntu focal InRelease\n",
            "Hit:9 http://ppa.launchpad.net/ubuntugis/ppa/ubuntu focal InRelease\n",
            "Hit:10 http://archive.ubuntu.com/ubuntu focal InRelease\n",
            "Hit:11 http://archive.ubuntu.com/ubuntu focal-updates InRelease\n",
            "Hit:12 http://archive.ubuntu.com/ubuntu focal-backports InRelease\n",
            "Reading package lists... Done\n",
            "Reading package lists... Done\n",
            "Building dependency tree       \n",
            "Reading state information... Done\n",
            "The following additional packages will be installed:\n",
            "  desktop-file-utils fluid-soundfont-gm fonts-freefont-ttf libfluidsynth2\n",
            "  libinstpatch-1.0-2 libportaudio2 libportmidi0 libqt5help5 libqt5qml5\n",
            "  libqt5quick5 libqt5svg5 libqt5xmlpatterns5 musescore-common\n",
            "  musescore-general-soundfont-small qml-module-qtgraphicaleffects\n",
            "  qml-module-qtquick-controls qml-module-qtquick-dialogs\n",
            "  qml-module-qtquick-layouts qml-module-qtquick-privatewidgets\n",
            "  qml-module-qtquick-window2 qml-module-qtquick2 qsynth\n",
            "Suggested packages:\n",
            "  fluid-soundfont-gs timidity qt5-qmltooling-plugins pulseaudio-utils jackd\n",
            "The following NEW packages will be installed:\n",
            "  desktop-file-utils fluid-soundfont-gm fluidsynth fonts-freefont-ttf\n",
            "  libfluidsynth2 libinstpatch-1.0-2 libportaudio2 libportmidi0 libqt5help5\n",
            "  libqt5qml5 libqt5quick5 libqt5svg5 libqt5xmlpatterns5 musescore\n",
            "  musescore-common musescore-general-soundfont-small\n",
            "  qml-module-qtgraphicaleffects qml-module-qtquick-controls\n",
            "  qml-module-qtquick-dialogs qml-module-qtquick-layouts\n",
            "  qml-module-qtquick-privatewidgets qml-module-qtquick-window2\n",
            "  qml-module-qtquick2 qsynth\n",
            "0 upgraded, 24 newly installed, 0 to remove and 34 not upgraded.\n",
            "Need to get 170 MB of archives.\n",
            "After this operation, 263 MB of additional disk space will be used.\n",
            "Get:1 http://ppa.launchpad.net/mscore-ubuntu/mscore-stable/ubuntu focal/main amd64 musescore-general-soundfont-small all 0.2.1-1~ppa [34.2 MB]\n",
            "Get:2 http://archive.ubuntu.com/ubuntu focal/universe amd64 libqt5svg5 amd64 5.12.8-0ubuntu1 [131 kB]\n",
            "Get:3 http://ppa.launchpad.net/mscore-ubuntu/mscore-stable/ubuntu focal/main amd64 musescore-common all 2.3.2+dfsg4-15~ppa2004+1 [3,356 kB]\n",
            "Get:4 http://ppa.launchpad.net/mscore-ubuntu/mscore-stable/ubuntu focal/main amd64 musescore amd64 2.3.2+dfsg4-15~ppa2004+1 [5,382 kB]\n",
            "Get:5 http://archive.ubuntu.com/ubuntu focal/universe amd64 libqt5qml5 amd64 5.12.8-0ubuntu1 [1,438 kB]\n",
            "Get:6 http://archive.ubuntu.com/ubuntu focal/universe amd64 libqt5quick5 amd64 5.12.8-0ubuntu1 [1,335 kB]\n",
            "Get:7 http://archive.ubuntu.com/ubuntu focal/universe amd64 qml-module-qtquick-window2 amd64 5.12.8-0ubuntu1 [21.4 kB]\n",
            "Get:8 http://archive.ubuntu.com/ubuntu focal/universe amd64 qml-module-qtquick2 amd64 5.12.8-0ubuntu1 [36.2 kB]\n",
            "Get:9 http://archive.ubuntu.com/ubuntu focal/universe amd64 qml-module-qtgraphicaleffects amd64 5.12.8-0ubuntu1 [71.2 kB]\n",
            "Get:10 http://archive.ubuntu.com/ubuntu focal/universe amd64 qml-module-qtquick-layouts amd64 5.12.8-0ubuntu1 [48.5 kB]\n",
            "Get:11 http://archive.ubuntu.com/ubuntu focal/universe amd64 qml-module-qtquick-controls amd64 5.12.8-0ubuntu2 [520 kB]\n",
            "Get:12 http://archive.ubuntu.com/ubuntu focal-updates/main amd64 desktop-file-utils amd64 0.24-1ubuntu3 [50.6 kB]\n",
            "Get:13 http://archive.ubuntu.com/ubuntu focal/universe amd64 fluid-soundfont-gm all 3.1-5.1 [119 MB]\n",
            "Get:14 http://archive.ubuntu.com/ubuntu focal/universe amd64 libinstpatch-1.0-2 amd64 1.1.2-2build1 [238 kB]\n",
            "Get:15 http://archive.ubuntu.com/ubuntu focal/universe amd64 libfluidsynth2 amd64 2.1.1-2 [198 kB]\n",
            "Get:16 http://archive.ubuntu.com/ubuntu focal/universe amd64 fluidsynth amd64 2.1.1-2 [25.6 kB]\n",
            "Get:17 http://archive.ubuntu.com/ubuntu focal/main amd64 fonts-freefont-ttf all 20120503-10 [2,440 kB]\n",
            "Get:18 http://archive.ubuntu.com/ubuntu focal/universe amd64 libportaudio2 amd64 19.6.0-1build1 [65.4 kB]\n",
            "Get:19 http://archive.ubuntu.com/ubuntu focal/universe amd64 libportmidi0 amd64 1:217-6 [17.8 kB]\n",
            "Get:20 http://archive.ubuntu.com/ubuntu focal/universe amd64 libqt5help5 amd64 5.12.8-0ubuntu1 [134 kB]\n",
            "Get:21 http://archive.ubuntu.com/ubuntu focal/universe amd64 libqt5xmlpatterns5 amd64 5.12.8-0ubuntu1 [959 kB]\n",
            "Get:22 http://archive.ubuntu.com/ubuntu focal/universe amd64 qml-module-qtquick-privatewidgets amd64 5.12.8-0ubuntu2 [42.5 kB]\n",
            "Get:23 http://archive.ubuntu.com/ubuntu focal/universe amd64 qml-module-qtquick-dialogs amd64 5.12.8-0ubuntu2 [118 kB]\n",
            "Get:24 http://archive.ubuntu.com/ubuntu focal/universe amd64 qsynth amd64 0.6.1-1build1 [245 kB]\n",
            "Fetched 170 MB in 6s (29.0 MB/s)\n",
            "Selecting previously unselected package libqt5svg5:amd64.\n",
            "(Reading database ... 128276 files and directories currently installed.)\n",
            "Preparing to unpack .../00-libqt5svg5_5.12.8-0ubuntu1_amd64.deb ...\n",
            "Unpacking libqt5svg5:amd64 (5.12.8-0ubuntu1) ...\n",
            "Selecting previously unselected package libqt5qml5:amd64.\n",
            "Preparing to unpack .../01-libqt5qml5_5.12.8-0ubuntu1_amd64.deb ...\n",
            "Unpacking libqt5qml5:amd64 (5.12.8-0ubuntu1) ...\n",
            "Selecting previously unselected package libqt5quick5:amd64.\n",
            "Preparing to unpack .../02-libqt5quick5_5.12.8-0ubuntu1_amd64.deb ...\n",
            "Unpacking libqt5quick5:amd64 (5.12.8-0ubuntu1) ...\n",
            "Selecting previously unselected package qml-module-qtquick-window2:amd64.\n",
            "Preparing to unpack .../03-qml-module-qtquick-window2_5.12.8-0ubuntu1_amd64.deb ...\n",
            "Unpacking qml-module-qtquick-window2:amd64 (5.12.8-0ubuntu1) ...\n",
            "Selecting previously unselected package qml-module-qtquick2:amd64.\n",
            "Preparing to unpack .../04-qml-module-qtquick2_5.12.8-0ubuntu1_amd64.deb ...\n",
            "Unpacking qml-module-qtquick2:amd64 (5.12.8-0ubuntu1) ...\n",
            "Selecting previously unselected package qml-module-qtgraphicaleffects:amd64.\n",
            "Preparing to unpack .../05-qml-module-qtgraphicaleffects_5.12.8-0ubuntu1_amd64.deb ...\n",
            "Unpacking qml-module-qtgraphicaleffects:amd64 (5.12.8-0ubuntu1) ...\n",
            "Selecting previously unselected package qml-module-qtquick-layouts:amd64.\n",
            "Preparing to unpack .../06-qml-module-qtquick-layouts_5.12.8-0ubuntu1_amd64.deb ...\n",
            "Unpacking qml-module-qtquick-layouts:amd64 (5.12.8-0ubuntu1) ...\n",
            "Selecting previously unselected package qml-module-qtquick-controls:amd64.\n",
            "Preparing to unpack .../07-qml-module-qtquick-controls_5.12.8-0ubuntu2_amd64.deb ...\n",
            "Unpacking qml-module-qtquick-controls:amd64 (5.12.8-0ubuntu2) ...\n",
            "Selecting previously unselected package desktop-file-utils.\n",
            "Preparing to unpack .../08-desktop-file-utils_0.24-1ubuntu3_amd64.deb ...\n",
            "Unpacking desktop-file-utils (0.24-1ubuntu3) ...\n",
            "Selecting previously unselected package fluid-soundfont-gm.\n",
            "Preparing to unpack .../09-fluid-soundfont-gm_3.1-5.1_all.deb ...\n",
            "Unpacking fluid-soundfont-gm (3.1-5.1) ...\n",
            "Selecting previously unselected package libinstpatch-1.0-2:amd64.\n",
            "Preparing to unpack .../10-libinstpatch-1.0-2_1.1.2-2build1_amd64.deb ...\n",
            "Unpacking libinstpatch-1.0-2:amd64 (1.1.2-2build1) ...\n",
            "Selecting previously unselected package musescore-general-soundfont-small.\n",
            "Preparing to unpack .../11-musescore-general-soundfont-small_0.2.1-1~ppa_all.deb ...\n",
            "Unpacking musescore-general-soundfont-small (0.2.1-1~ppa) ...\n",
            "Selecting previously unselected package libfluidsynth2:amd64.\n",
            "Preparing to unpack .../12-libfluidsynth2_2.1.1-2_amd64.deb ...\n",
            "Unpacking libfluidsynth2:amd64 (2.1.1-2) ...\n",
            "Selecting previously unselected package fluidsynth.\n",
            "Preparing to unpack .../13-fluidsynth_2.1.1-2_amd64.deb ...\n",
            "Unpacking fluidsynth (2.1.1-2) ...\n",
            "Selecting previously unselected package fonts-freefont-ttf.\n",
            "Preparing to unpack .../14-fonts-freefont-ttf_20120503-10_all.deb ...\n",
            "Unpacking fonts-freefont-ttf (20120503-10) ...\n",
            "Selecting previously unselected package libportaudio2:amd64.\n",
            "Preparing to unpack .../15-libportaudio2_19.6.0-1build1_amd64.deb ...\n",
            "Unpacking libportaudio2:amd64 (19.6.0-1build1) ...\n",
            "Selecting previously unselected package libportmidi0:amd64.\n",
            "Preparing to unpack .../16-libportmidi0_1%3a217-6_amd64.deb ...\n",
            "Unpacking libportmidi0:amd64 (1:217-6) ...\n",
            "Selecting previously unselected package libqt5help5:amd64.\n",
            "Preparing to unpack .../17-libqt5help5_5.12.8-0ubuntu1_amd64.deb ...\n",
            "Unpacking libqt5help5:amd64 (5.12.8-0ubuntu1) ...\n",
            "Selecting previously unselected package libqt5xmlpatterns5:amd64.\n",
            "Preparing to unpack .../18-libqt5xmlpatterns5_5.12.8-0ubuntu1_amd64.deb ...\n",
            "Unpacking libqt5xmlpatterns5:amd64 (5.12.8-0ubuntu1) ...\n",
            "Selecting previously unselected package qml-module-qtquick-privatewidgets:amd64.\n",
            "Preparing to unpack .../19-qml-module-qtquick-privatewidgets_5.12.8-0ubuntu2_amd64.deb ...\n",
            "Unpacking qml-module-qtquick-privatewidgets:amd64 (5.12.8-0ubuntu2) ...\n",
            "Selecting previously unselected package qml-module-qtquick-dialogs:amd64.\n",
            "Preparing to unpack .../20-qml-module-qtquick-dialogs_5.12.8-0ubuntu2_amd64.deb ...\n",
            "Unpacking qml-module-qtquick-dialogs:amd64 (5.12.8-0ubuntu2) ...\n",
            "Selecting previously unselected package musescore-common.\n",
            "Preparing to unpack .../21-musescore-common_2.3.2+dfsg4-15~ppa2004+1_all.deb ...\n",
            "Unpacking musescore-common (2.3.2+dfsg4-15~ppa2004+1) ...\n",
            "Selecting previously unselected package musescore.\n",
            "Preparing to unpack .../22-musescore_2.3.2+dfsg4-15~ppa2004+1_amd64.deb ...\n",
            "Unpacking musescore (2.3.2+dfsg4-15~ppa2004+1) ...\n",
            "Selecting previously unselected package qsynth.\n",
            "Preparing to unpack .../23-qsynth_0.6.1-1build1_amd64.deb ...\n",
            "Unpacking qsynth (0.6.1-1build1) ...\n",
            "Setting up libportaudio2:amd64 (19.6.0-1build1) ...\n",
            "Setting up desktop-file-utils (0.24-1ubuntu3) ...\n",
            "Setting up libqt5xmlpatterns5:amd64 (5.12.8-0ubuntu1) ...\n",
            "Setting up libqt5svg5:amd64 (5.12.8-0ubuntu1) ...\n",
            "Setting up fonts-freefont-ttf (20120503-10) ...\n",
            "Setting up musescore-general-soundfont-small (0.2.1-1~ppa) ...\n",
            "update-alternatives: using /usr/share/sounds/sf3/MuseScore_General_Lite.sf3 to provide /usr/share/sounds/sf3/default-GM.sf3 (default-GM.sf3) in auto mode\n",
            "update-alternatives: using /usr/share/sounds/sf3/MuseScore_General_Lite.sf3 to provide /usr/share/sounds/sf3/MuseScore_General.sf3 (MuseScore_General.sf3) in auto mode\n",
            "Setting up libqt5help5:amd64 (5.12.8-0ubuntu1) ...\n",
            "Setting up musescore-common (2.3.2+dfsg4-15~ppa2004+1) ...\n",
            "Setting up libqt5qml5:amd64 (5.12.8-0ubuntu1) ...\n",
            "Setting up libportmidi0:amd64 (1:217-6) ...\n",
            "Setting up fluid-soundfont-gm (3.1-5.1) ...\n",
            "Setting up libqt5quick5:amd64 (5.12.8-0ubuntu1) ...\n",
            "Setting up libinstpatch-1.0-2:amd64 (1.1.2-2build1) ...\n",
            "Setting up qml-module-qtquick-privatewidgets:amd64 (5.12.8-0ubuntu2) ...\n",
            "Setting up qml-module-qtquick-window2:amd64 (5.12.8-0ubuntu1) ...\n",
            "Setting up qml-module-qtquick-layouts:amd64 (5.12.8-0ubuntu1) ...\n",
            "Setting up qml-module-qtquick-dialogs:amd64 (5.12.8-0ubuntu2) ...\n",
            "Setting up libfluidsynth2:amd64 (2.1.1-2) ...\n",
            "Setting up qml-module-qtquick2:amd64 (5.12.8-0ubuntu1) ...\n",
            "Setting up qsynth (0.6.1-1build1) ...\n",
            "Setting up qml-module-qtgraphicaleffects:amd64 (5.12.8-0ubuntu1) ...\n",
            "Setting up fluidsynth (2.1.1-2) ...\n",
            "Created symlink /etc/systemd/user/multi-user.target.wants/fluidsynth.service → /usr/lib/systemd/user/fluidsynth.service.\n",
            "Setting up qml-module-qtquick-controls:amd64 (5.12.8-0ubuntu2) ...\n",
            "Setting up musescore (2.3.2+dfsg4-15~ppa2004+1) ...\n",
            "Processing triggers for mime-support (3.64ubuntu1) ...\n",
            "Processing triggers for hicolor-icon-theme (0.17-2) ...\n",
            "Processing triggers for libc-bin (2.31-0ubuntu9.9) ...\n",
            "Processing triggers for man-db (2.9.1-1) ...\n",
            "Processing triggers for shared-mime-info (1.15-1) ...\n",
            "Processing triggers for fontconfig (2.13.1-2ubuntu3) ...\n"
          ]
        }
      ]
    },
    {
      "cell_type": "code",
      "source": [
        "!pip install -q omegaconf wandb muspy fluidsynth\n",
        "import muspy\n",
        "muspy.download_musescore_soundfont()"
      ],
      "metadata": {
        "colab": {
          "base_uri": "https://localhost:8080/"
        },
        "id": "cHOotMtacHRo",
        "outputId": "4bc55bbf-59ab-4480-e9e5-60b31aeb6b95"
      },
      "execution_count": 4,
      "outputs": [
        {
          "output_type": "stream",
          "name": "stdout",
          "text": [
            "\u001b[2K     \u001b[90m━━━━━━━━━━━━━━━━━━━━━━━━━━━━━━━━━━━━━━━━\u001b[0m \u001b[32m79.5/79.5 KB\u001b[0m \u001b[31m7.0 MB/s\u001b[0m eta \u001b[36m0:00:00\u001b[0m\n",
            "\u001b[2K     \u001b[90m━━━━━━━━━━━━━━━━━━━━━━━━━━━━━━━━━━━━━━━━\u001b[0m \u001b[32m2.0/2.0 MB\u001b[0m \u001b[31m66.5 MB/s\u001b[0m eta \u001b[36m0:00:00\u001b[0m\n",
            "\u001b[2K     \u001b[90m━━━━━━━━━━━━━━━━━━━━━━━━━━━━━━━━━━━━━━\u001b[0m \u001b[32m119.1/119.1 KB\u001b[0m \u001b[31m14.4 MB/s\u001b[0m eta \u001b[36m0:00:00\u001b[0m\n",
            "\u001b[?25h  Preparing metadata (setup.py) ... \u001b[?25l\u001b[?25hdone\n",
            "\u001b[2K     \u001b[90m━━━━━━━━━━━━━━━━━━━━━━━━━━━━━━━━━━━━━━\u001b[0m \u001b[32m117.0/117.0 KB\u001b[0m \u001b[31m13.9 MB/s\u001b[0m eta \u001b[36m0:00:00\u001b[0m\n",
            "\u001b[?25h  Preparing metadata (setup.py) ... \u001b[?25l\u001b[?25hdone\n",
            "  Preparing metadata (setup.py) ... \u001b[?25l\u001b[?25hdone\n",
            "\u001b[2K     \u001b[90m━━━━━━━━━━━━━━━━━━━━━━━━━━━━━━━━━━━━━━\u001b[0m \u001b[32m184.3/184.3 KB\u001b[0m \u001b[31m22.1 MB/s\u001b[0m eta \u001b[36m0:00:00\u001b[0m\n",
            "\u001b[2K     \u001b[90m━━━━━━━━━━━━━━━━━━━━━━━━━━━━━━━━━━━━━━━\u001b[0m \u001b[32m189.1/189.1 KB\u001b[0m \u001b[31m1.5 MB/s\u001b[0m eta \u001b[36m0:00:00\u001b[0m\n",
            "\u001b[2K     \u001b[90m━━━━━━━━━━━━━━━━━━━━━━━━━━━━━━━━━━━━━━━━\u001b[0m \u001b[32m22.8/22.8 MB\u001b[0m \u001b[31m12.7 MB/s\u001b[0m eta \u001b[36m0:00:00\u001b[0m\n",
            "\u001b[2K     \u001b[90m━━━━━━━━━━━━━━━━━━━━━━━━━━━━━━━━━━━━━━━━\u001b[0m \u001b[32m51.1/51.1 KB\u001b[0m \u001b[31m4.9 MB/s\u001b[0m eta \u001b[36m0:00:00\u001b[0m\n",
            "\u001b[2K     \u001b[90m━━━━━━━━━━━━━━━━━━━━━━━━━━━━━━━━━━━━━━━━\u001b[0m \u001b[32m5.6/5.6 MB\u001b[0m \u001b[31m67.0 MB/s\u001b[0m eta \u001b[36m0:00:00\u001b[0m\n",
            "\u001b[?25h  Preparing metadata (setup.py) ... \u001b[?25l\u001b[?25hdone\n",
            "\u001b[2K     \u001b[90m━━━━━━━━━━━━━━━━━━━━━━━━━━━━━━━━━━━━━━━━\u001b[0m \u001b[32m62.7/62.7 KB\u001b[0m \u001b[31m7.8 MB/s\u001b[0m eta \u001b[36m0:00:00\u001b[0m\n",
            "\u001b[2K     \u001b[90m━━━━━━━━━━━━━━━━━━━━━━━━━━━━━━━━━━━━━━━━\u001b[0m \u001b[32m40.5/40.5 KB\u001b[0m \u001b[31m5.1 MB/s\u001b[0m eta \u001b[36m0:00:00\u001b[0m\n",
            "\u001b[?25h  Building wheel for antlr4-python3-runtime (setup.py) ... \u001b[?25l\u001b[?25hdone\n",
            "  Building wheel for fluidsynth (setup.py) ... \u001b[?25l\u001b[?25hdone\n",
            "  Building wheel for pretty-midi (setup.py) ... \u001b[?25l\u001b[?25hdone\n",
            "  Building wheel for pathtools (setup.py) ... \u001b[?25l\u001b[?25hdone\n",
            "Start downloading MuseScore General soundfont.\n",
            "MuseScore General soundfont has successfully been downloaded to : /root/.muspy/musescore-general.\n"
          ]
        }
      ]
    },
    {
      "cell_type": "markdown",
      "source": [
        "## Generation\n",
        "- The cell below will generates Reel in `.abc` and `.mid`\n",
        "- It will try to make inference with step-increasing random seed to generate tunes that are regarded as valid tune for this task until it generates `--num_samples` tunes\n",
        "- `--save_audio` option saves wav sample of the generated tune\n",
        "- `--save_image` option saves png image of the generated transcription\n"
      ],
      "metadata": {
        "id": "qDXj6jaXodi7"
      }
    },
    {
      "cell_type": "code",
      "source": [
        "!python generate.py --path=pre_trained/measure_note --save_dir=generated_samples/ --num_samples=1 --save_audio --save_image --device=cuda "
      ],
      "metadata": {
        "colab": {
          "base_uri": "https://localhost:8080/"
        },
        "id": "875cI7JSeXme",
        "outputId": "2dc0c983-5b01-4c20-d49d-6341a3a077c4"
      },
      "execution_count": 7,
      "outputs": [
        {
          "output_type": "stream",
          "name": "stdout",
          "text": [
            "generated 1 tunes\n"
          ]
        }
      ]
    },
    {
      "cell_type": "markdown",
      "source": [
        "## Training\n",
        "- It takes time to read and parse the training data\n",
        "- The experiment was designed to be logged through ``wandb`` "
      ],
      "metadata": {
        "id": "Uh4-fvWFoU1K"
      }
    },
    {
      "cell_type": "code",
      "source": [
        "!python3 train.py --no_log"
      ],
      "metadata": {
        "id": "jncbagAscBqG",
        "colab": {
          "base_uri": "https://localhost:8080/"
        },
        "outputId": "f2218f58-f97b-4813-8704-32edca3f8786"
      },
      "execution_count": null,
      "outputs": [
        {
          "output_type": "stream",
          "name": "stdout",
          "text": [
            "Error in token measure_offset: <Beam \"|\">\n",
            "Error in token measure_offset: <Beam \"|\">\n",
            "Error in token measure_offset: <Beam \"|\">\n",
            "Error in meas_offset_from_repeat_start: <Beam \"|\">\n",
            "Error in token measure_offset: <Beam \"|\">\n",
            "Error in token measure_offset: <Beam \"|\">\n",
            "Error in meas_offset_from_repeat_start: <Tie \"-\">\n",
            "Error in token measure_offset: <Beam \"|\">\n",
            "Error in meas_offset_from_repeat_start: <Beam \":|\">\n",
            "Error in meas_offset_from_repeat_start: <Beam \"|:\">\n",
            "Error in meas_offset_from_repeat_start: <Beam \"|:\">\n",
            "Error in meas_offset_from_repeat_start: <Beam \"|:\">\n",
            "Error in token measure_offset: <Beam \"|:\">\n",
            "Error in token measure_offset: <Beam \"|\">\n",
            "Vocab size: {'main': 101, 'dur': 18, 'pitch_class': 15, 'octave': 15, 'm_idx': 181, 'm_idx_mod4': 7, 'm_offset': 44, 'is_onbeat': 5, 'is_middle_beat': 5, 'key': 48, 'meter': 7, 'unit_length': 1, 'rhythm': 13, 'root': 12, 'mode': 4, 'key_sig': 17, 'numer': 6, 'denom': 3, 'is_compound': 2, 'is_triple': 2}\n",
            "Number of data: 18612\n",
            "Handling dataset input as a abc path list\n",
            "Error in token measure_offset: <Beam \"|\">\n",
            "Error in token measure_offset: <Beam \"|\">\n",
            "Error in token measure_offset: <Beam \"|\">\n",
            "Error in token measure_offset: <Beam \"|\">\n",
            "Error in meas_offset_from_repeat_start: <Tie \"-\">\n",
            "Error in token measure_offset: <Beam \"|\">\n",
            "Error in meas_offset_from_repeat_start: <Beam \":|\">\n",
            "Error in meas_offset_from_repeat_start: <Beam \"|:\">\n",
            "Error in meas_offset_from_repeat_start: <Beam \"|:\">\n",
            "Error in meas_offset_from_repeat_start: <Beam \"|:\">\n",
            "Error in token measure_offset: <Beam \"|:\">\n",
            "Error in token measure_offset: <Beam \"|\">\n",
            "Handling dataset input as a abc path list\n",
            "Error in meas_offset_from_repeat_start: <Beam \"|\">\n",
            "Error in token measure_offset: <Beam \"|\">\n",
            "Number of train data: 17674\n",
            "Number of valid data: 1869\n",
            "  1% 771/100000 [07:45<16:38:13,  1.66it/s]\n",
            "Traceback (most recent call last):\n",
            "  File \"train.py\", line 126, in <module>\n",
            "    trainer.train_by_num_iter(args.num_iter)\n",
            "  File \"/content/irish-maler-cleaned/trainer.py\", line 77, in train_by_num_iter\n",
            "    loss_value, loss_dict = self._train_by_single_batch(batch)\n",
            "  File \"/content/irish-maler-cleaned/trainer.py\", line 154, in _train_by_single_batch\n",
            "    loss.backward()\n",
            "  File \"/usr/local/lib/python3.7/dist-packages/torch/_tensor.py\", line 396, in backward\n",
            "    torch.autograd.backward(self, gradient, retain_graph, create_graph, inputs=inputs)\n",
            "  File \"/usr/local/lib/python3.7/dist-packages/torch/autograd/__init__.py\", line 175, in backward\n",
            "    allow_unreachable=True, accumulate_grad=True)  # Calls into the C++ engine to run the backward pass\n",
            "KeyboardInterrupt\n"
          ]
        }
      ]
    }
  ]
}